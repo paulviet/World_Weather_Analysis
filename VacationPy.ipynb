{
 "cells": [
  {
   "cell_type": "code",
   "execution_count": 1,
   "metadata": {},
   "outputs": [],
   "source": [
    "# Import the dependencies.\n",
    "import pandas as pd\n",
    "import gmaps\n",
    "import requests\n",
    "# Import the API key.\n",
    "from config import g_key"
   ]
  },
  {
   "cell_type": "code",
   "execution_count": 2,
   "metadata": {},
   "outputs": [
    {
     "data": {
      "text/html": [
       "<div>\n",
       "<style scoped>\n",
       "    .dataframe tbody tr th:only-of-type {\n",
       "        vertical-align: middle;\n",
       "    }\n",
       "\n",
       "    .dataframe tbody tr th {\n",
       "        vertical-align: top;\n",
       "    }\n",
       "\n",
       "    .dataframe thead th {\n",
       "        text-align: right;\n",
       "    }\n",
       "</style>\n",
       "<table border=\"1\" class=\"dataframe\">\n",
       "  <thead>\n",
       "    <tr style=\"text-align: right;\">\n",
       "      <th></th>\n",
       "      <th>City_ID</th>\n",
       "      <th>City</th>\n",
       "      <th>Cloudiness</th>\n",
       "      <th>Country</th>\n",
       "      <th>Date</th>\n",
       "      <th>Humidity</th>\n",
       "      <th>Lat</th>\n",
       "      <th>Lng</th>\n",
       "      <th>Max Temp</th>\n",
       "      <th>Wind Speed</th>\n",
       "    </tr>\n",
       "  </thead>\n",
       "  <tbody>\n",
       "    <tr>\n",
       "      <th>0</th>\n",
       "      <td>0</td>\n",
       "      <td>Butaritari</td>\n",
       "      <td>18</td>\n",
       "      <td>KI</td>\n",
       "      <td>2021-03-28 13:43:59</td>\n",
       "      <td>79</td>\n",
       "      <td>3.0707</td>\n",
       "      <td>172.7902</td>\n",
       "      <td>80.92</td>\n",
       "      <td>12.08</td>\n",
       "    </tr>\n",
       "    <tr>\n",
       "      <th>1</th>\n",
       "      <td>1</td>\n",
       "      <td>Coquimbo</td>\n",
       "      <td>90</td>\n",
       "      <td>CL</td>\n",
       "      <td>2021-03-28 13:43:59</td>\n",
       "      <td>82</td>\n",
       "      <td>-29.9533</td>\n",
       "      <td>-71.3436</td>\n",
       "      <td>59.00</td>\n",
       "      <td>5.75</td>\n",
       "    </tr>\n",
       "    <tr>\n",
       "      <th>2</th>\n",
       "      <td>2</td>\n",
       "      <td>Norman Wells</td>\n",
       "      <td>75</td>\n",
       "      <td>CA</td>\n",
       "      <td>2021-03-28 13:43:59</td>\n",
       "      <td>71</td>\n",
       "      <td>65.2820</td>\n",
       "      <td>-126.8329</td>\n",
       "      <td>-0.40</td>\n",
       "      <td>17.27</td>\n",
       "    </tr>\n",
       "    <tr>\n",
       "      <th>3</th>\n",
       "      <td>3</td>\n",
       "      <td>Hofn</td>\n",
       "      <td>75</td>\n",
       "      <td>IS</td>\n",
       "      <td>2021-03-28 13:44:00</td>\n",
       "      <td>69</td>\n",
       "      <td>64.2539</td>\n",
       "      <td>-15.2082</td>\n",
       "      <td>35.60</td>\n",
       "      <td>19.57</td>\n",
       "    </tr>\n",
       "    <tr>\n",
       "      <th>4</th>\n",
       "      <td>4</td>\n",
       "      <td>Ushuaia</td>\n",
       "      <td>40</td>\n",
       "      <td>AR</td>\n",
       "      <td>2021-03-28 13:39:23</td>\n",
       "      <td>65</td>\n",
       "      <td>-54.8000</td>\n",
       "      <td>-68.3000</td>\n",
       "      <td>44.60</td>\n",
       "      <td>29.93</td>\n",
       "    </tr>\n",
       "  </tbody>\n",
       "</table>\n",
       "</div>"
      ],
      "text/plain": [
       "   City_ID          City  Cloudiness Country                 Date  Humidity  \\\n",
       "0        0    Butaritari          18      KI  2021-03-28 13:43:59        79   \n",
       "1        1      Coquimbo          90      CL  2021-03-28 13:43:59        82   \n",
       "2        2  Norman Wells          75      CA  2021-03-28 13:43:59        71   \n",
       "3        3          Hofn          75      IS  2021-03-28 13:44:00        69   \n",
       "4        4       Ushuaia          40      AR  2021-03-28 13:39:23        65   \n",
       "\n",
       "       Lat       Lng  Max Temp  Wind Speed  \n",
       "0   3.0707  172.7902     80.92       12.08  \n",
       "1 -29.9533  -71.3436     59.00        5.75  \n",
       "2  65.2820 -126.8329     -0.40       17.27  \n",
       "3  64.2539  -15.2082     35.60       19.57  \n",
       "4 -54.8000  -68.3000     44.60       29.93  "
      ]
     },
     "execution_count": 2,
     "metadata": {},
     "output_type": "execute_result"
    }
   ],
   "source": [
    "# Store the CSV you saved created in part one into a DataFrame.\n",
    "city_data_df = pd.read_csv(\"weather_data/cities.csv\")\n",
    "city_data_df.head()"
   ]
  },
  {
   "cell_type": "code",
   "execution_count": 3,
   "metadata": {},
   "outputs": [
    {
     "data": {
      "text/plain": [
       "City_ID         int64\n",
       "City           object\n",
       "Cloudiness      int64\n",
       "Country        object\n",
       "Date           object\n",
       "Humidity        int64\n",
       "Lat           float64\n",
       "Lng           float64\n",
       "Max Temp      float64\n",
       "Wind Speed    float64\n",
       "dtype: object"
      ]
     },
     "execution_count": 3,
     "metadata": {},
     "output_type": "execute_result"
    }
   ],
   "source": [
    "city_data_df.dtypes"
   ]
  },
  {
   "cell_type": "code",
   "execution_count": 4,
   "metadata": {},
   "outputs": [],
   "source": [
    "# Configure gmaps to use your Google API key.\n",
    "gmaps.configure(api_key=g_key)"
   ]
  },
  {
   "cell_type": "raw",
   "metadata": {},
   "source": [
    "1 Assign the locations to an array of latitude and longitude pairs.\n",
    "locations = [latitude, longitude]\n",
    "2 Assign the weights variable to some values.\n",
    "temperatures = [] # an array of length equal to the locations array length\n",
    "3 Assign the figure variable to the gmaps.figure() attribute.\n",
    "fig = gmaps.figure()\n",
    "4 Assign the heatmap_layer variable to the heatmap_layer attribute and add in the locations.\n",
    "heatmap_layer = gmaps.heatmap_layer(locations, weights=temperatures)\n",
    "5 Add the heatmap layer.\n",
    "fig.add_layer(heatmap_layer)\n",
    "6 Call the figure to plot the data.\n",
    "fig"
   ]
  },
  {
   "cell_type": "markdown",
   "metadata": {},
   "source": [
    "# Heatmap of temperature"
   ]
  },
  {
   "cell_type": "code",
   "execution_count": 5,
   "metadata": {},
   "outputs": [
    {
     "data": {
      "application/vnd.jupyter.widget-view+json": {
       "model_id": "b256d1cbd739435bbc41688fc387182f",
       "version_major": 2,
       "version_minor": 0
      },
      "text/plain": [
       "Figure(layout=FigureLayout(height='420px'))"
      ]
     },
     "metadata": {},
     "output_type": "display_data"
    }
   ],
   "source": [
    "# Heatmap of temperature\n",
    "# Get the latitude and longitude.\n",
    "locations = city_data_df[[\"Lat\", \"Lng\"]]\n",
    "\n",
    "# Get the maximum temperature.\n",
    "max_temp = city_data_df[\"Max Temp\"] # Google heatmaps do not plot negative 0F temperatures and you get InvalidWeightException error \n",
    "#method 1 | temps = []\n",
    "        #for temp in max_temp:\n",
    "#    temps.append(max(temp, 0)) # get max of temp or 0, whichever is higher\n",
    "#method 2 | temps = [max(temp, 0) for temp in max_temp]\n",
    "# Assign the figure variable.\n",
    "fig = gmaps.figure()\n",
    "# Assign the heatmap variable.\n",
    "# see line below | heat_layer = gmaps.heatmap_layer(locations, weights=temps) # weights=max_temp swapped to default negative to 0F\n",
    "heat_layer = gmaps.heatmap_layer(locations, weights=[max(temp, 0) for temp in max_temp])\n",
    "# Add the heatmap layer.\n",
    "fig.add_layer(heat_layer)\n",
    "# Call the figure to plot the data.\n",
    "fig"
   ]
  },
  {
   "cell_type": "code",
   "execution_count": 6,
   "metadata": {
    "scrolled": true
   },
   "outputs": [
    {
     "data": {
      "application/vnd.jupyter.widget-view+json": {
       "model_id": "2a400cc459e64abf98e010a87a4910bb",
       "version_major": 2,
       "version_minor": 0
      },
      "text/plain": [
       "Figure(layout=FigureLayout(height='420px'))"
      ]
     },
     "metadata": {},
     "output_type": "display_data"
    }
   ],
   "source": [
    "# Redoing map to look cleaner \n",
    "fig = gmaps.figure(center=(30.0, 31.0), zoom_level=1.5)\n",
    "# Assign the heatmap variable.\n",
    "# see line below | heat_layer = gmaps.heatmap_layer(locations, weights=temps) # weights=max_temp swapped to default negative to 0F\n",
    "heat_layer = gmaps.heatmap_layer(locations, weights=[max(temp, 0) for temp in max_temp])\n",
    "# Add the heatmap layer.\n",
    "fig.add_layer(heat_layer)\n",
    "# Call the figure to plot the data.\n",
    "fig"
   ]
  },
  {
   "cell_type": "code",
   "execution_count": 7,
   "metadata": {
    "scrolled": true
   },
   "outputs": [
    {
     "data": {
      "application/vnd.jupyter.widget-view+json": {
       "model_id": "e18e6f7d39f3446a80c6e16a75f75c7e",
       "version_major": 2,
       "version_minor": 0
      },
      "text/plain": [
       "Figure(layout=FigureLayout(height='420px'))"
      ]
     },
     "metadata": {},
     "output_type": "display_data"
    }
   ],
   "source": [
    "#modifying code for more intensity and centered in the US\n",
    "fig = gmaps.figure(center=(40.0, -95.0), zoom_level=3)\n",
    "heat_layer = gmaps.heatmap_layer(locations, weights=[max(temp, 0) for temp in max_temp], dissipating=False, max_intensity=300, point_radius=4)\n",
    "fig.add_layer(heat_layer)\n",
    "fig"
   ]
  },
  {
   "cell_type": "code",
   "execution_count": 8,
   "metadata": {
    "scrolled": true
   },
   "outputs": [
    {
     "data": {
      "application/vnd.jupyter.widget-view+json": {
       "model_id": "0361af16d5994936b3966c0abbf067a5",
       "version_major": 2,
       "version_minor": 0
      },
      "text/plain": [
       "Figure(layout=FigureLayout(height='420px'))"
      ]
     },
     "metadata": {},
     "output_type": "display_data"
    }
   ],
   "source": [
    "#modifying code for more intensity\n",
    "#gmaps.figure(display_toolbar=True, display_errors=True, zoom_level=None, tilt=45, center=None, layout=None, map_type='ROADMAP', mouse_handling='COOPERATIVE')\n",
    "fig = gmaps.figure(center=(40.0, -74.0), zoom_level=5, map_type='HYBRID')\n",
    "heat_layer = gmaps.heatmap_layer(locations, weights=[max(temp, 0) for temp in max_temp], dissipating=False, max_intensity=300, point_radius=4)\n",
    "fig.add_layer(heat_layer)\n",
    "fig"
   ]
  },
  {
   "cell_type": "markdown",
   "metadata": {},
   "source": [
    "# Heatmap of % Humidity"
   ]
  },
  {
   "cell_type": "code",
   "execution_count": 9,
   "metadata": {
    "scrolled": true
   },
   "outputs": [
    {
     "data": {
      "application/vnd.jupyter.widget-view+json": {
       "model_id": "ddcbf73828b742c181b9a87395a329e5",
       "version_major": 2,
       "version_minor": 0
      },
      "text/plain": [
       "Figure(layout=FigureLayout(height='420px'))"
      ]
     },
     "metadata": {},
     "output_type": "display_data"
    }
   ],
   "source": [
    "# Heatmap of percent humidity\n",
    "locations = city_data_df[[\"Lat\", \"Lng\"]]\n",
    "humidity = city_data_df[\"Humidity\"]\n",
    "fig = gmaps.figure(center=(30.0, 31.0), zoom_level=1.5)\n",
    "heat_layer = gmaps.heatmap_layer(locations, weights=humidity, dissipating=False, max_intensity=300, point_radius=4)\n",
    "\n",
    "fig.add_layer(heat_layer)\n",
    "# Call the figure to plot the data.\n",
    "fig"
   ]
  },
  {
   "cell_type": "markdown",
   "metadata": {},
   "source": [
    "# Heatmap of % Cloudiness"
   ]
  },
  {
   "cell_type": "code",
   "execution_count": 10,
   "metadata": {},
   "outputs": [
    {
     "data": {
      "application/vnd.jupyter.widget-view+json": {
       "model_id": "11715359f2d745faa24d1b2a072282c1",
       "version_major": 2,
       "version_minor": 0
      },
      "text/plain": [
       "Figure(layout=FigureLayout(height='420px'))"
      ]
     },
     "metadata": {},
     "output_type": "display_data"
    }
   ],
   "source": [
    "# Heatmap of percent cloudiness\n",
    "locations = city_data_df[[\"Lat\", \"Lng\"]]\n",
    "clouds = city_data_df[\"Cloudiness\"]\n",
    "fig = gmaps.figure(center=(30.0, 31.0), zoom_level=1.5)\n",
    "heat_layer = gmaps.heatmap_layer(locations, weights=clouds, dissipating=False, max_intensity=300, point_radius=4)\n",
    "\n",
    "fig.add_layer(heat_layer)\n",
    "# Call the figure to plot the data.\n",
    "fig"
   ]
  },
  {
   "cell_type": "markdown",
   "metadata": {},
   "source": [
    "# Heatmap of Wind Speed (mph)"
   ]
  },
  {
   "cell_type": "code",
   "execution_count": 11,
   "metadata": {},
   "outputs": [
    {
     "data": {
      "application/vnd.jupyter.widget-view+json": {
       "model_id": "263e84a31395495293ba4d82297e1025",
       "version_major": 2,
       "version_minor": 0
      },
      "text/plain": [
       "Figure(layout=FigureLayout(height='420px'))"
      ]
     },
     "metadata": {},
     "output_type": "display_data"
    }
   ],
   "source": [
    "# Heatmap of percent Wind Speed\n",
    "locations = city_data_df[[\"Lat\", \"Lng\"]]\n",
    "windspeed = city_data_df[\"Wind Speed\"]\n",
    "fig = gmaps.figure(center=(30.0, 31.0), zoom_level=1.5)\n",
    "heat_layer = gmaps.heatmap_layer(locations, weights=windspeed, dissipating=False, max_intensity=300, point_radius=4)\n",
    "\n",
    "fig.add_layer(heat_layer)\n",
    "# Call the figure to plot the data.\n",
    "fig"
   ]
  },
  {
   "cell_type": "markdown",
   "metadata": {},
   "source": [
    "# Vacation Questionnaire"
   ]
  },
  {
   "cell_type": "code",
   "execution_count": 30,
   "metadata": {},
   "outputs": [
    {
     "name": "stdout",
     "output_type": "stream",
     "text": [
      "What is the minimum temperature you would like for your trip? 65\n",
      "What is the maximum temperature you would like for your trip? 85\n"
     ]
    }
   ],
   "source": [
    "# Ask the customer to add a minimum and maximum temperature value.\n",
    "min_temp = float(input(\"What is the minimum temperature you would like for your trip? \"))\n",
    "max_temp = float(input(\"What is the maximum temperature you would like for your trip? \"))"
   ]
  },
  {
   "cell_type": "code",
   "execution_count": 31,
   "metadata": {},
   "outputs": [
    {
     "data": {
      "text/html": [
       "<div>\n",
       "<style scoped>\n",
       "    .dataframe tbody tr th:only-of-type {\n",
       "        vertical-align: middle;\n",
       "    }\n",
       "\n",
       "    .dataframe tbody tr th {\n",
       "        vertical-align: top;\n",
       "    }\n",
       "\n",
       "    .dataframe thead th {\n",
       "        text-align: right;\n",
       "    }\n",
       "</style>\n",
       "<table border=\"1\" class=\"dataframe\">\n",
       "  <thead>\n",
       "    <tr style=\"text-align: right;\">\n",
       "      <th></th>\n",
       "      <th>City_ID</th>\n",
       "      <th>City</th>\n",
       "      <th>Cloudiness</th>\n",
       "      <th>Country</th>\n",
       "      <th>Date</th>\n",
       "      <th>Humidity</th>\n",
       "      <th>Lat</th>\n",
       "      <th>Lng</th>\n",
       "      <th>Max Temp</th>\n",
       "      <th>Wind Speed</th>\n",
       "    </tr>\n",
       "  </thead>\n",
       "  <tbody>\n",
       "    <tr>\n",
       "      <th>0</th>\n",
       "      <td>0</td>\n",
       "      <td>Butaritari</td>\n",
       "      <td>18</td>\n",
       "      <td>KI</td>\n",
       "      <td>2021-03-28 13:43:59</td>\n",
       "      <td>79</td>\n",
       "      <td>3.0707</td>\n",
       "      <td>172.7902</td>\n",
       "      <td>80.92</td>\n",
       "      <td>12.08</td>\n",
       "    </tr>\n",
       "    <tr>\n",
       "      <th>5</th>\n",
       "      <td>5</td>\n",
       "      <td>Atuona</td>\n",
       "      <td>100</td>\n",
       "      <td>PF</td>\n",
       "      <td>2021-03-28 13:44:00</td>\n",
       "      <td>71</td>\n",
       "      <td>-9.8000</td>\n",
       "      <td>-139.0333</td>\n",
       "      <td>80.92</td>\n",
       "      <td>18.48</td>\n",
       "    </tr>\n",
       "    <tr>\n",
       "      <th>7</th>\n",
       "      <td>7</td>\n",
       "      <td>Avarua</td>\n",
       "      <td>75</td>\n",
       "      <td>CK</td>\n",
       "      <td>2021-03-28 13:44:00</td>\n",
       "      <td>83</td>\n",
       "      <td>-21.2078</td>\n",
       "      <td>-159.7750</td>\n",
       "      <td>80.60</td>\n",
       "      <td>16.11</td>\n",
       "    </tr>\n",
       "    <tr>\n",
       "      <th>8</th>\n",
       "      <td>8</td>\n",
       "      <td>Carnarvon</td>\n",
       "      <td>1</td>\n",
       "      <td>AU</td>\n",
       "      <td>2021-03-28 13:44:01</td>\n",
       "      <td>89</td>\n",
       "      <td>-24.8667</td>\n",
       "      <td>113.6333</td>\n",
       "      <td>78.80</td>\n",
       "      <td>6.91</td>\n",
       "    </tr>\n",
       "    <tr>\n",
       "      <th>11</th>\n",
       "      <td>11</td>\n",
       "      <td>Knysna</td>\n",
       "      <td>20</td>\n",
       "      <td>ZA</td>\n",
       "      <td>2021-03-28 13:44:01</td>\n",
       "      <td>68</td>\n",
       "      <td>-34.0363</td>\n",
       "      <td>23.0471</td>\n",
       "      <td>69.80</td>\n",
       "      <td>14.97</td>\n",
       "    </tr>\n",
       "    <tr>\n",
       "      <th>18</th>\n",
       "      <td>18</td>\n",
       "      <td>Bredasdorp</td>\n",
       "      <td>100</td>\n",
       "      <td>ZA</td>\n",
       "      <td>2021-03-28 13:44:03</td>\n",
       "      <td>60</td>\n",
       "      <td>-34.5322</td>\n",
       "      <td>20.0403</td>\n",
       "      <td>69.80</td>\n",
       "      <td>20.71</td>\n",
       "    </tr>\n",
       "    <tr>\n",
       "      <th>20</th>\n",
       "      <td>20</td>\n",
       "      <td>Camocim</td>\n",
       "      <td>37</td>\n",
       "      <td>BR</td>\n",
       "      <td>2021-03-28 13:41:28</td>\n",
       "      <td>76</td>\n",
       "      <td>-2.9022</td>\n",
       "      <td>-40.8411</td>\n",
       "      <td>81.99</td>\n",
       "      <td>4.72</td>\n",
       "    </tr>\n",
       "    <tr>\n",
       "      <th>24</th>\n",
       "      <td>24</td>\n",
       "      <td>Rikitea</td>\n",
       "      <td>8</td>\n",
       "      <td>PF</td>\n",
       "      <td>2021-03-28 13:44:04</td>\n",
       "      <td>75</td>\n",
       "      <td>-23.1203</td>\n",
       "      <td>-134.9692</td>\n",
       "      <td>78.06</td>\n",
       "      <td>16.08</td>\n",
       "    </tr>\n",
       "    <tr>\n",
       "      <th>26</th>\n",
       "      <td>26</td>\n",
       "      <td>Saint-Pierre</td>\n",
       "      <td>75</td>\n",
       "      <td>RE</td>\n",
       "      <td>2021-03-28 13:44:05</td>\n",
       "      <td>70</td>\n",
       "      <td>-21.3393</td>\n",
       "      <td>55.4781</td>\n",
       "      <td>84.20</td>\n",
       "      <td>6.91</td>\n",
       "    </tr>\n",
       "    <tr>\n",
       "      <th>27</th>\n",
       "      <td>27</td>\n",
       "      <td>Vaini</td>\n",
       "      <td>90</td>\n",
       "      <td>TO</td>\n",
       "      <td>2021-03-28 13:44:05</td>\n",
       "      <td>100</td>\n",
       "      <td>-21.2000</td>\n",
       "      <td>-175.2000</td>\n",
       "      <td>77.00</td>\n",
       "      <td>8.05</td>\n",
       "    </tr>\n",
       "  </tbody>\n",
       "</table>\n",
       "</div>"
      ],
      "text/plain": [
       "    City_ID          City  Cloudiness Country                 Date  Humidity  \\\n",
       "0         0    Butaritari          18      KI  2021-03-28 13:43:59        79   \n",
       "5         5        Atuona         100      PF  2021-03-28 13:44:00        71   \n",
       "7         7        Avarua          75      CK  2021-03-28 13:44:00        83   \n",
       "8         8     Carnarvon           1      AU  2021-03-28 13:44:01        89   \n",
       "11       11        Knysna          20      ZA  2021-03-28 13:44:01        68   \n",
       "18       18    Bredasdorp         100      ZA  2021-03-28 13:44:03        60   \n",
       "20       20       Camocim          37      BR  2021-03-28 13:41:28        76   \n",
       "24       24       Rikitea           8      PF  2021-03-28 13:44:04        75   \n",
       "26       26  Saint-Pierre          75      RE  2021-03-28 13:44:05        70   \n",
       "27       27         Vaini          90      TO  2021-03-28 13:44:05       100   \n",
       "\n",
       "        Lat       Lng  Max Temp  Wind Speed  \n",
       "0    3.0707  172.7902     80.92       12.08  \n",
       "5   -9.8000 -139.0333     80.92       18.48  \n",
       "7  -21.2078 -159.7750     80.60       16.11  \n",
       "8  -24.8667  113.6333     78.80        6.91  \n",
       "11 -34.0363   23.0471     69.80       14.97  \n",
       "18 -34.5322   20.0403     69.80       20.71  \n",
       "20  -2.9022  -40.8411     81.99        4.72  \n",
       "24 -23.1203 -134.9692     78.06       16.08  \n",
       "26 -21.3393   55.4781     84.20        6.91  \n",
       "27 -21.2000 -175.2000     77.00        8.05  "
      ]
     },
     "execution_count": 31,
     "metadata": {},
     "output_type": "execute_result"
    }
   ],
   "source": [
    "# Filter the dataset to find the cities that fit the criteria.\n",
    "preferred_cities_df = city_data_df.loc[(city_data_df[\"Max Temp\"] <= max_temp) & \n",
    "                                       (city_data_df[\"Max Temp\"] >= min_temp)]\n",
    "preferred_cities_df.head(10)"
   ]
  },
  {
   "cell_type": "code",
   "execution_count": 32,
   "metadata": {},
   "outputs": [
    {
     "data": {
      "text/plain": [
       "City_ID       250\n",
       "City          250\n",
       "Cloudiness    250\n",
       "Country       245\n",
       "Date          250\n",
       "Humidity      250\n",
       "Lat           250\n",
       "Lng           250\n",
       "Max Temp      250\n",
       "Wind Speed    250\n",
       "dtype: int64"
      ]
     },
     "execution_count": 32,
     "metadata": {},
     "output_type": "execute_result"
    }
   ],
   "source": [
    "#Find Nulls\n",
    "#preferred_cities_df.notnull().sum()\n",
    "preferred_cities_df.count()\n",
    "#preferred_cities_df.isnull().sum()"
   ]
  },
  {
   "cell_type": "code",
   "execution_count": 33,
   "metadata": {},
   "outputs": [],
   "source": [
    "preferred_cities_df = preferred_cities_df.dropna() #Remove records with missing Countries, etc... "
   ]
  },
  {
   "cell_type": "code",
   "execution_count": 38,
   "metadata": {},
   "outputs": [
    {
     "data": {
      "text/plain": [
       "City_ID       201\n",
       "City          201\n",
       "Cloudiness    201\n",
       "Country       201\n",
       "Date          201\n",
       "Humidity      201\n",
       "Lat           201\n",
       "Lng           201\n",
       "Max Temp      201\n",
       "Wind Speed    201\n",
       "dtype: int64"
      ]
     },
     "execution_count": 38,
     "metadata": {},
     "output_type": "execute_result"
    }
   ],
   "source": [
    "#removing cities with high humidity\n",
    "preferred_cities_df.loc[(preferred_cities_df[\"Humidity\"] < 88)].count() #trying to avoid high humidity"
   ]
  },
  {
   "cell_type": "code",
   "execution_count": 39,
   "metadata": {},
   "outputs": [
    {
     "data": {
      "text/plain": [
       "City_ID       201\n",
       "City          201\n",
       "Cloudiness    201\n",
       "Country       201\n",
       "Date          201\n",
       "Humidity      201\n",
       "Lat           201\n",
       "Lng           201\n",
       "Max Temp      201\n",
       "Wind Speed    201\n",
       "dtype: int64"
      ]
     },
     "execution_count": 39,
     "metadata": {},
     "output_type": "execute_result"
    }
   ],
   "source": [
    "preferred_cities_df = preferred_cities_df.loc[(preferred_cities_df[\"Humidity\"] < 88)] #reducing the list to less than 200\n",
    "preferred_cities_df.count()"
   ]
  },
  {
   "cell_type": "code",
   "execution_count": 40,
   "metadata": {},
   "outputs": [
    {
     "data": {
      "text/html": [
       "<div>\n",
       "<style scoped>\n",
       "    .dataframe tbody tr th:only-of-type {\n",
       "        vertical-align: middle;\n",
       "    }\n",
       "\n",
       "    .dataframe tbody tr th {\n",
       "        vertical-align: top;\n",
       "    }\n",
       "\n",
       "    .dataframe thead th {\n",
       "        text-align: right;\n",
       "    }\n",
       "</style>\n",
       "<table border=\"1\" class=\"dataframe\">\n",
       "  <thead>\n",
       "    <tr style=\"text-align: right;\">\n",
       "      <th></th>\n",
       "      <th>City</th>\n",
       "      <th>Country</th>\n",
       "      <th>Max Temp</th>\n",
       "      <th>Lat</th>\n",
       "      <th>Lng</th>\n",
       "      <th>Hotel Name</th>\n",
       "    </tr>\n",
       "  </thead>\n",
       "  <tbody>\n",
       "    <tr>\n",
       "      <th>0</th>\n",
       "      <td>Butaritari</td>\n",
       "      <td>KI</td>\n",
       "      <td>80.92</td>\n",
       "      <td>3.0707</td>\n",
       "      <td>172.7902</td>\n",
       "      <td></td>\n",
       "    </tr>\n",
       "    <tr>\n",
       "      <th>5</th>\n",
       "      <td>Atuona</td>\n",
       "      <td>PF</td>\n",
       "      <td>80.92</td>\n",
       "      <td>-9.8000</td>\n",
       "      <td>-139.0333</td>\n",
       "      <td></td>\n",
       "    </tr>\n",
       "    <tr>\n",
       "      <th>7</th>\n",
       "      <td>Avarua</td>\n",
       "      <td>CK</td>\n",
       "      <td>80.60</td>\n",
       "      <td>-21.2078</td>\n",
       "      <td>-159.7750</td>\n",
       "      <td></td>\n",
       "    </tr>\n",
       "    <tr>\n",
       "      <th>11</th>\n",
       "      <td>Knysna</td>\n",
       "      <td>ZA</td>\n",
       "      <td>69.80</td>\n",
       "      <td>-34.0363</td>\n",
       "      <td>23.0471</td>\n",
       "      <td></td>\n",
       "    </tr>\n",
       "    <tr>\n",
       "      <th>18</th>\n",
       "      <td>Bredasdorp</td>\n",
       "      <td>ZA</td>\n",
       "      <td>69.80</td>\n",
       "      <td>-34.5322</td>\n",
       "      <td>20.0403</td>\n",
       "      <td></td>\n",
       "    </tr>\n",
       "    <tr>\n",
       "      <th>20</th>\n",
       "      <td>Camocim</td>\n",
       "      <td>BR</td>\n",
       "      <td>81.99</td>\n",
       "      <td>-2.9022</td>\n",
       "      <td>-40.8411</td>\n",
       "      <td></td>\n",
       "    </tr>\n",
       "    <tr>\n",
       "      <th>24</th>\n",
       "      <td>Rikitea</td>\n",
       "      <td>PF</td>\n",
       "      <td>78.06</td>\n",
       "      <td>-23.1203</td>\n",
       "      <td>-134.9692</td>\n",
       "      <td></td>\n",
       "    </tr>\n",
       "    <tr>\n",
       "      <th>26</th>\n",
       "      <td>Saint-Pierre</td>\n",
       "      <td>RE</td>\n",
       "      <td>84.20</td>\n",
       "      <td>-21.3393</td>\n",
       "      <td>55.4781</td>\n",
       "      <td></td>\n",
       "    </tr>\n",
       "    <tr>\n",
       "      <th>31</th>\n",
       "      <td>Takoradi</td>\n",
       "      <td>GH</td>\n",
       "      <td>84.74</td>\n",
       "      <td>4.8845</td>\n",
       "      <td>-1.7554</td>\n",
       "      <td></td>\n",
       "    </tr>\n",
       "    <tr>\n",
       "      <th>32</th>\n",
       "      <td>Auki</td>\n",
       "      <td>SB</td>\n",
       "      <td>77.56</td>\n",
       "      <td>-8.7676</td>\n",
       "      <td>160.7034</td>\n",
       "      <td></td>\n",
       "    </tr>\n",
       "  </tbody>\n",
       "</table>\n",
       "</div>"
      ],
      "text/plain": [
       "            City Country  Max Temp      Lat       Lng Hotel Name\n",
       "0     Butaritari      KI     80.92   3.0707  172.7902           \n",
       "5         Atuona      PF     80.92  -9.8000 -139.0333           \n",
       "7         Avarua      CK     80.60 -21.2078 -159.7750           \n",
       "11        Knysna      ZA     69.80 -34.0363   23.0471           \n",
       "18    Bredasdorp      ZA     69.80 -34.5322   20.0403           \n",
       "20       Camocim      BR     81.99  -2.9022  -40.8411           \n",
       "24       Rikitea      PF     78.06 -23.1203 -134.9692           \n",
       "26  Saint-Pierre      RE     84.20 -21.3393   55.4781           \n",
       "31      Takoradi      GH     84.74   4.8845   -1.7554           \n",
       "32          Auki      SB     77.56  -8.7676  160.7034           "
      ]
     },
     "execution_count": 40,
     "metadata": {},
     "output_type": "execute_result"
    }
   ],
   "source": [
    "# Create DataFrame called hotel_df to store hotel names along with city, country, max temp, and coordinates.\n",
    "hotel_df = preferred_cities_df[[\"City\", \"Country\", \"Max Temp\", \"Lat\", \"Lng\"]].copy()\n",
    "hotel_df[\"Hotel Name\"] = \"\"\n",
    "hotel_df.head(10)"
   ]
  },
  {
   "cell_type": "code",
   "execution_count": 41,
   "metadata": {},
   "outputs": [],
   "source": [
    "# Set parameters to search for a hotel. distance in meters\n",
    "params = {\n",
    "    \"radius\": 5000,\n",
    "    \"type\": \"lodging\",\n",
    "    \"key\": g_key\n",
    "}"
   ]
  },
  {
   "cell_type": "code",
   "execution_count": 42,
   "metadata": {},
   "outputs": [
    {
     "name": "stdout",
     "output_type": "stream",
     "text": [
      "Hotel not found for Beloha, MG, -25.1667,45.05... skipping.\n",
      "Hotel not found for Awjilah, LY, 29.1081,21.2869... skipping.\n",
      "Hotel not found for Sapa, PH, 5.1544,120.3241... skipping.\n",
      "Hotel not found for Jinji, CN, 23.2281,110.8261... skipping.\n",
      "Hotel not found for Thinadhoo, MV, 0.5333,72.9333... skipping.\n",
      "Hotel not found for Nalut, LY, 30.3333,10.85... skipping.\n",
      "Hotel not found for Mgandu, TZ, -5.95,34.1333... skipping.\n",
      "Hotel not found for Uruzgan, AF, 32.8333,66.0... skipping.\n"
     ]
    }
   ],
   "source": [
    "# Iterate through the DataFrame.\n",
    "for index, row in hotel_df.iterrows():\n",
    "    # Get the latitude and longitude.\n",
    "    lat = row[\"Lat\"]\n",
    "    lng = row[\"Lng\"]\n",
    "    city_location = row[\"City\"] + \", \" + row[\"Country\"]\n",
    "\n",
    "    # Add the latitude and longitude to location key for the params dictionary.\n",
    "    params[\"location\"] = f\"{lat},{lng}\"\n",
    "    geolocation = params[\"location\"]\n",
    "    # Use the search term: \"lodging\" and our latitude and longitude.\n",
    "    base_url = \"https://maps.googleapis.com/maps/api/place/nearbysearch/json\"\n",
    "    # Make request and get the JSON data from the search.\n",
    "    hotels = requests.get(base_url, params=params).json()\n",
    "    # Grab the first hotel from the results and store the name.\n",
    "    try:\n",
    "        hotel_df.loc[index, \"Hotel Name\"] = hotels[\"results\"][0][\"name\"]\n",
    "    except (IndexError):\n",
    "        print(f\"Hotel not found for {city_location}, {geolocation}... skipping.\")"
   ]
  },
  {
   "cell_type": "code",
   "execution_count": 43,
   "metadata": {},
   "outputs": [
    {
     "data": {
      "text/html": [
       "<div>\n",
       "<style scoped>\n",
       "    .dataframe tbody tr th:only-of-type {\n",
       "        vertical-align: middle;\n",
       "    }\n",
       "\n",
       "    .dataframe tbody tr th {\n",
       "        vertical-align: top;\n",
       "    }\n",
       "\n",
       "    .dataframe thead th {\n",
       "        text-align: right;\n",
       "    }\n",
       "</style>\n",
       "<table border=\"1\" class=\"dataframe\">\n",
       "  <thead>\n",
       "    <tr style=\"text-align: right;\">\n",
       "      <th></th>\n",
       "      <th>City</th>\n",
       "      <th>Country</th>\n",
       "      <th>Max Temp</th>\n",
       "      <th>Lat</th>\n",
       "      <th>Lng</th>\n",
       "      <th>Hotel Name</th>\n",
       "    </tr>\n",
       "  </thead>\n",
       "  <tbody>\n",
       "    <tr>\n",
       "      <th>0</th>\n",
       "      <td>Butaritari</td>\n",
       "      <td>KI</td>\n",
       "      <td>80.92</td>\n",
       "      <td>3.0707</td>\n",
       "      <td>172.7902</td>\n",
       "      <td>Isles Sunset Lodge</td>\n",
       "    </tr>\n",
       "    <tr>\n",
       "      <th>5</th>\n",
       "      <td>Atuona</td>\n",
       "      <td>PF</td>\n",
       "      <td>80.92</td>\n",
       "      <td>-9.8000</td>\n",
       "      <td>-139.0333</td>\n",
       "      <td>Villa Enata</td>\n",
       "    </tr>\n",
       "    <tr>\n",
       "      <th>7</th>\n",
       "      <td>Avarua</td>\n",
       "      <td>CK</td>\n",
       "      <td>80.60</td>\n",
       "      <td>-21.2078</td>\n",
       "      <td>-159.7750</td>\n",
       "      <td>Paradise Inn</td>\n",
       "    </tr>\n",
       "    <tr>\n",
       "      <th>11</th>\n",
       "      <td>Knysna</td>\n",
       "      <td>ZA</td>\n",
       "      <td>69.80</td>\n",
       "      <td>-34.0363</td>\n",
       "      <td>23.0471</td>\n",
       "      <td>Protea Hotel by Marriott Knysna Quays</td>\n",
       "    </tr>\n",
       "    <tr>\n",
       "      <th>18</th>\n",
       "      <td>Bredasdorp</td>\n",
       "      <td>ZA</td>\n",
       "      <td>69.80</td>\n",
       "      <td>-34.5322</td>\n",
       "      <td>20.0403</td>\n",
       "      <td>Bredasdorp Country Manor</td>\n",
       "    </tr>\n",
       "    <tr>\n",
       "      <th>...</th>\n",
       "      <td>...</td>\n",
       "      <td>...</td>\n",
       "      <td>...</td>\n",
       "      <td>...</td>\n",
       "      <td>...</td>\n",
       "      <td>...</td>\n",
       "    </tr>\n",
       "    <tr>\n",
       "      <th>571</th>\n",
       "      <td>Pisco</td>\n",
       "      <td>PE</td>\n",
       "      <td>71.60</td>\n",
       "      <td>-13.7000</td>\n",
       "      <td>-76.2167</td>\n",
       "      <td>Hotel San Isidro Oficial</td>\n",
       "    </tr>\n",
       "    <tr>\n",
       "      <th>572</th>\n",
       "      <td>Ko Samui</td>\n",
       "      <td>TH</td>\n",
       "      <td>84.20</td>\n",
       "      <td>9.5357</td>\n",
       "      <td>99.9357</td>\n",
       "      <td>The Passage Samui Villas &amp; Resort, Thailand</td>\n",
       "    </tr>\n",
       "    <tr>\n",
       "      <th>576</th>\n",
       "      <td>Ratnagiri</td>\n",
       "      <td>IN</td>\n",
       "      <td>82.31</td>\n",
       "      <td>16.9833</td>\n",
       "      <td>73.3000</td>\n",
       "      <td>Hotel Landmark</td>\n",
       "    </tr>\n",
       "    <tr>\n",
       "      <th>579</th>\n",
       "      <td>Hukuntsi</td>\n",
       "      <td>BW</td>\n",
       "      <td>84.90</td>\n",
       "      <td>-24.0000</td>\n",
       "      <td>21.7500</td>\n",
       "      <td>Entabeni Hotel</td>\n",
       "    </tr>\n",
       "    <tr>\n",
       "      <th>580</th>\n",
       "      <td>Port Augusta</td>\n",
       "      <td>AU</td>\n",
       "      <td>66.20</td>\n",
       "      <td>-32.5000</td>\n",
       "      <td>137.7667</td>\n",
       "      <td>Majestic Oasis Apartments</td>\n",
       "    </tr>\n",
       "  </tbody>\n",
       "</table>\n",
       "<p>201 rows × 6 columns</p>\n",
       "</div>"
      ],
      "text/plain": [
       "             City Country  Max Temp      Lat       Lng  \\\n",
       "0      Butaritari      KI     80.92   3.0707  172.7902   \n",
       "5          Atuona      PF     80.92  -9.8000 -139.0333   \n",
       "7          Avarua      CK     80.60 -21.2078 -159.7750   \n",
       "11         Knysna      ZA     69.80 -34.0363   23.0471   \n",
       "18     Bredasdorp      ZA     69.80 -34.5322   20.0403   \n",
       "..            ...     ...       ...      ...       ...   \n",
       "571         Pisco      PE     71.60 -13.7000  -76.2167   \n",
       "572      Ko Samui      TH     84.20   9.5357   99.9357   \n",
       "576     Ratnagiri      IN     82.31  16.9833   73.3000   \n",
       "579      Hukuntsi      BW     84.90 -24.0000   21.7500   \n",
       "580  Port Augusta      AU     66.20 -32.5000  137.7667   \n",
       "\n",
       "                                      Hotel Name  \n",
       "0                             Isles Sunset Lodge  \n",
       "5                                    Villa Enata  \n",
       "7                                   Paradise Inn  \n",
       "11         Protea Hotel by Marriott Knysna Quays  \n",
       "18                      Bredasdorp Country Manor  \n",
       "..                                           ...  \n",
       "571                     Hotel San Isidro Oficial  \n",
       "572  The Passage Samui Villas & Resort, Thailand  \n",
       "576                               Hotel Landmark  \n",
       "579                               Entabeni Hotel  \n",
       "580                    Majestic Oasis Apartments  \n",
       "\n",
       "[201 rows x 6 columns]"
      ]
     },
     "execution_count": 43,
     "metadata": {},
     "output_type": "execute_result"
    }
   ],
   "source": [
    "hotel_df"
   ]
  },
  {
   "cell_type": "code",
   "execution_count": 44,
   "metadata": {},
   "outputs": [
    {
     "data": {
      "application/vnd.jupyter.widget-view+json": {
       "model_id": "4ee005c36d50429f97ba5615eb284f2c",
       "version_major": 2,
       "version_minor": 0
      },
      "text/plain": [
       "Figure(layout=FigureLayout(height='420px'))"
      ]
     },
     "metadata": {},
     "output_type": "display_data"
    }
   ],
   "source": [
    "# Add a heatmap of temperature for the vacation spots.\n",
    "# and marker for each city.\n",
    "locations = hotel_df[[\"Lat\", \"Lng\"]]\n",
    "max_temp = hotel_df[\"Max Temp\"]\n",
    "fig = gmaps.figure(center=(30.0, 31.0), zoom_level=1.5)\n",
    "heat_layer = gmaps.heatmap_layer(locations, weights=max_temp, dissipating=False,\n",
    "             max_intensity=300, point_radius=4)\n",
    "marker_layer = gmaps.marker_layer(locations) #adding markers\n",
    "fig.add_layer(heat_layer)\n",
    "fig.add_layer(marker_layer) #adding markers to figure\n",
    "# Call the figure to plot the data.\n",
    "fig"
   ]
  },
  {
   "cell_type": "code",
   "execution_count": 47,
   "metadata": {
    "scrolled": false
   },
   "outputs": [
    {
     "data": {
      "text/plain": [
       "list"
      ]
     },
     "execution_count": 47,
     "metadata": {},
     "output_type": "execute_result"
    }
   ],
   "source": [
    "info_box_template = \"\"\"\n",
    "<dl>\n",
    "<dt>Hotel Name</dt><dd>{Hotel Name}</dd>\n",
    "<dt>City</dt><dd>{City}</dd>\n",
    "<dt>Country</dt><dd>{Country}</dd>\n",
    "<dt>Max Temp</dt><dd>{Max Temp} °F</dd>\n",
    "</dl>\n",
    "\"\"\"\n",
    "# Store the DataFrame Row.\n",
    "hotel_info = [info_box_template.format(**row) for index, row in hotel_df.iterrows()]\n",
    "type(hotel_info)"
   ]
  },
  {
   "cell_type": "markdown",
   "metadata": {},
   "source": [
    "# Vacation spots in desired Temperatures "
   ]
  },
  {
   "cell_type": "code",
   "execution_count": 48,
   "metadata": {},
   "outputs": [
    {
     "data": {
      "application/vnd.jupyter.widget-view+json": {
       "model_id": "833ffaf16b004c13ae01ce1bc8ce5962",
       "version_major": 2,
       "version_minor": 0
      },
      "text/plain": [
       "Figure(layout=FigureLayout(height='420px'))"
      ]
     },
     "metadata": {},
     "output_type": "display_data"
    }
   ],
   "source": [
    "# Add a heatmap of temperature for the vacation spots and a pop-up marker for each city.\n",
    "locations = hotel_df[[\"Lat\", \"Lng\"]]\n",
    "max_temp = hotel_df[\"Max Temp\"]\n",
    "fig = gmaps.figure(center=(30.0, 31.0), zoom_level=1.5)\n",
    "heat_layer = gmaps.heatmap_layer(locations, weights=max_temp,dissipating=False,\n",
    "             max_intensity=300, point_radius=4)\n",
    "marker_layer = gmaps.marker_layer(locations, info_box_content=hotel_info)\n",
    "fig.add_layer(heat_layer)\n",
    "fig.add_layer(marker_layer)\n",
    "\n",
    "# Call the figure to plot the data.\n",
    "fig"
   ]
  },
  {
   "cell_type": "code",
   "execution_count": null,
   "metadata": {},
   "outputs": [],
   "source": []
  }
 ],
 "metadata": {
  "kernelspec": {
   "display_name": "PythonData",
   "language": "python",
   "name": "pythondata"
  },
  "language_info": {
   "codemirror_mode": {
    "name": "ipython",
    "version": 3
   },
   "file_extension": ".py",
   "mimetype": "text/x-python",
   "name": "python",
   "nbconvert_exporter": "python",
   "pygments_lexer": "ipython3",
   "version": "3.7.9"
  }
 },
 "nbformat": 4,
 "nbformat_minor": 4
}
